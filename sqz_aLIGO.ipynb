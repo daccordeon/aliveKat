{
 "cells": [
  {
   "cell_type": "code",
   "execution_count": null,
   "metadata": {},
   "outputs": [],
   "source": [
    "import numpy as np\n",
    "import matplotlib.pyplot as plt  \n",
    "%matplotlib inline\n",
    "# from IPython.display import display, HTML\n",
    "\n",
    "from pykat import finesse\n",
    "from pykat.commands import *\n",
    "pykat.init_pykat_plotting(dpi=90)\n",
    "\n",
    "from pprint import pprint as pprint"
   ]
  },
  {
   "cell_type": "code",
   "execution_count": null,
   "metadata": {},
   "outputs": [],
   "source": [
    "basekat = finesse.kat()\n",
    "basecode = \"\"\"\n",
    "# constants\n",
    "const Pin 1M # laser power\n",
    "const LX 4k # arm lengths\n",
    "const LY 4k\n",
    "const Lrecyc 1 # L = 1m, recycling cavities\n",
    "# recycling cavities are overcoupled\n",
    "const recycR1 0.8\n",
    "const recycT1 0.2\n",
    "const recycR2 0.9\n",
    "const recycT2 0.1\n",
    "# arm cavities are also?\n",
    "const R1arm 0.9\n",
    "const T1arm 0.1\n",
    "const R2arm 1 # perfect mirror\n",
    "const T2arm 0\n",
    "\n",
    "# laser\n",
    "l laser $Pin 0 nLaser\n",
    "s slasertoPR 0 nLaser nPR0 # null length\n",
    "\n",
    "# power recycling cavity\n",
    "m mPR1 $recycR1 $recycT1 0 nPR0 nPR1\n",
    "s sPRcav $Lrecyc nPR1 nPR2 \n",
    "m mPR2 $recycR2 $recycT2 0 nPR2 nPR3\n",
    "s sPRtoBS 0 nPR3 nBSi # null length\n",
    "\n",
    "# central beam splitter\n",
    "bs BS 0.5 0.5 0 0 nBSi nBSr nBSt nBSo\n",
    "s sBStoYarm 0 nBSr nY0 # null length\n",
    "s sBStoXarm 0 nBSt nX0 # null length\n",
    "s sBStoSR 0 nBSo nSR0 # null length\n",
    "\n",
    "# Y arm (perpendicular)\n",
    "m mY1 $R1arm $T1arm 0 nY0 nY1\n",
    "s sY $LY nY1 nY2\n",
    "m mY2 $R2arm $T2arm 0 nY2 nY3\n",
    "\n",
    "# X arm (parallel)\n",
    "m mX1 $R1arm $T1arm 0 nX0 nX1\n",
    "s sX $LX nX1 nX2\n",
    "m mX2 $R2arm $T2arm 0 nX2 nX3\n",
    "\n",
    "# signal recycling cavity\n",
    "m mSR1 $recycR1 $recycT1 0 nSR0 nSR1\n",
    "s sSRcav $Lrecyc nSR1 nSR2\n",
    "m mSR2 $recycR2 $recycT2 0 nSR2 nSR3\n",
    "s sSRtosqzBS 0 nSR3 nsqzBS1 # null length\n",
    "\n",
    "# squeezer addition beam splitter\n",
    "bs sqzBS 0.5 0.5 0 0 nsqzBS1 nsqzBSdump nsqzBSpd nNLEo\n",
    "nle nle1 0.05 0 nNLEi nNLEo # r = 0.05, sqz angle = 0\n",
    "\n",
    "# photodiode\n",
    "pd darkport nsqzBSpd\n",
    "\"\"\"\n",
    "basekat.parse(basecode)"
   ]
  },
  {
   "cell_type": "code",
   "execution_count": null,
   "metadata": {},
   "outputs": [],
   "source": [
    "pprint((basekat.components, basekat.detectors, basekat.commands))"
   ]
  },
  {
   "cell_type": "code",
   "execution_count": null,
   "metadata": {},
   "outputs": [],
   "source": []
  },
  {
   "cell_type": "code",
   "execution_count": null,
   "metadata": {},
   "outputs": [],
   "source": [
    "kat1 = deepcopy(basekat)\n",
    "kat1code = \"\"\"\n",
    "fsig noise 1 # noise at 1Hz\n",
    "xaxis noise f lin 1 10G 1000\n",
    "#yaxis abs:deg\n",
    "\"\"\"\n",
    "kat1.parse(kat1code)\n",
    "out1 = kat1.run()"
   ]
  },
  {
   "cell_type": "code",
   "execution_count": null,
   "metadata": {},
   "outputs": [],
   "source": []
  },
  {
   "cell_type": "code",
   "execution_count": null,
   "metadata": {},
   "outputs": [],
   "source": []
  }
 ],
 "metadata": {
  "kernelspec": {
   "display_name": "Python 3",
   "language": "python",
   "name": "python3"
  },
  "language_info": {
   "codemirror_mode": {
    "name": "ipython",
    "version": 3
   },
   "file_extension": ".py",
   "mimetype": "text/x-python",
   "name": "python",
   "nbconvert_exporter": "python",
   "pygments_lexer": "ipython3",
   "version": "3.6.9"
  }
 },
 "nbformat": 4,
 "nbformat_minor": 2
}
