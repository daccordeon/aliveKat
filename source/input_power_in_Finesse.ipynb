{
 "cells": [
  {
   "cell_type": "markdown",
   "metadata": {},
   "source": [
    "James Gardner 2022"
   ]
  },
  {
   "cell_type": "code",
   "execution_count": null,
   "metadata": {},
   "outputs": [],
   "source": [
    "# import packages\n",
    "import os, sys\n",
    "import numpy as np\n",
    "import matplotlib.pyplot as plt  \n",
    "%matplotlib inline\n",
    "\n",
    "from pprint import pprint\n",
    "\n",
    "from pykat import finesse\n",
    "from pykat.commands import *\n",
    "pykat.init_pykat_plotting(dpi=90)"
   ]
  },
  {
   "cell_type": "code",
   "execution_count": null,
   "metadata": {},
   "outputs": [],
   "source": [
    "# base of configurations, base model to then add components to\n",
    "# reference: http://www.gwoptics.org/finesse/examples/aligo_sensitivity.php\n",
    "# namely, doesn't contain connecting component in SRC between BS and SRM\n",
    "# later functions either add a space, or space-nle-space there\n",
    "basekat = finesse.kat()\n",
    "basecode = \"\"\"\n",
    "# spaces\n",
    "const lx 1.6\n",
    "const ly 1.55\n",
    "const Lx 3994.469\n",
    "const Ly 3994.469\n",
    "const lprc 53\n",
    "# mirrors\n",
    "\n",
    "# power recycling\n",
    "s sBStoPRM $lprc nPRM nBSi\n",
    "\n",
    "# central beam splitter\n",
    "bs BS 0.5 0.5 0 45 nBSi nBSr nBSt nBSo\n",
    "s sBStoYarm $ly nBSr nY0\n",
    "s sBStoXarm $lx nBSt nX0\n",
    "\n",
    "# Y arm (perpendicular)\n",
    "s sY $Ly nY1 nY2\n",
    "\n",
    "# X arm (parallel)\n",
    "s sX $Lx nX1 nX2\n",
    "\n",
    "# signal recycling\n",
    "# nBSo to nSRM left disconnected for now\n",
    "# is connected differently in kat1 and kat2\n",
    "s sSRMtohdBS 0 nDark nhdBSi # null length space\n",
    "\"\"\"\n",
    "basekat.parse(basecode)\n",
    "\n",
    "# print((basekat.components, basekat.detectors, basekat.commands))"
   ]
  },
  {
   "cell_type": "code",
   "execution_count": null,
   "metadata": {},
   "outputs": [],
   "source": [
    "# use this function to check if powers are correct\n",
    "def check_tuning(kat):\n",
    "    \"\"\"checking IFO tuning by seeing if circulating power in arms is close to 800kW\n",
    "    \"\"\"\n",
    "    check_tuning_kat = deepcopy(kat)\n",
    "    check_tuning_kat.verbose = False\n",
    "    check_tuning_code=\"\"\"\n",
    "    pd initial nLaser*\n",
    "    pd circPRC nPRM\n",
    "    pd circX nX1\n",
    "    pd circY nY1\n",
    "\n",
    "    pd BSi nBSi*\n",
    "    pd BSr nBSr\n",
    "    pd BSt nBSt\n",
    "    pd BSo nBSo\n",
    "\n",
    "    noxaxis\n",
    "    \"\"\"\n",
    "    check_tuning_kat.parse(check_tuning_code)\n",
    "    check_tuning_out = check_tuning_kat.run()\n",
    "    \n",
    "    input_power = check_tuning_out[\"initial\"].mean()\n",
    "    circulating_arm_cavity_power = check_tuning_out[\"circX\"].mean()\n",
    "    print(f\"Input power, Pin: {input_power:.3g} W\\nPower incident on beamsplitter: {check_tuning_out['BSi'].mean()*1e-3:.3g} kW\\nPower transmitted from beamsplitter towards X-arm: {check_tuning_out['BSt'].mean()*1e-3:.3g} kW\\nCirculating arm cavity power, Pcirc: {circulating_arm_cavity_power*1e-6:.3g} MW\")\n",
    "\n",
    "def create_kat1(lsrc=56, pin=125, titm=0.014, label=\"No nle\", t_srm=0.046, loss_srm=1000e-6, loss_arm=100e-6, t_prm=0.03):\n",
    "    \"\"\"returns basekat with a space as the connecting component\n",
    "    configuration 1: connecting nBSo and nSRM with a space\n",
    "    lsrc in m\n",
    "    \"\"\"\n",
    "    kat1 = deepcopy(basekat)\n",
    "    kat1code = f\"\"\"\n",
    "    const Loss_itm 0\n",
    "    const Mtm 200 # kg\n",
    "    # --------------\n",
    "    const Pin {pin}\n",
    "    const Titm {titm} # aLIGO uses 0.014, Voyager uses 0.002, Korobko+2019 uses 0.07, I use 0.197\n",
    "    l laser $Pin 0 nLaser\n",
    "    \n",
    "    const Tprm {t_prm}\n",
    "    const Loss_prm 0\n",
    "    m1 PRM $Tprm $Loss_prm 90 nLaser nPRM # tuning = 90° towards nLaser\n",
    "    \n",
    "    m1 mYitm $Titm $Loss_itm 0 nY0 nY1\n",
    "    m1 mXitm $Titm $Loss_itm 90 nX0 nX1 # tuning = 90° towards nX0\n",
    "    attr mYitm mass $Mtm\n",
    "    attr mXitm mass $Mtm\n",
    "   \n",
    "    const Tetm 0\n",
    "    const Loss_etm {loss_arm}\n",
    "    m1 mYetm $Tetm $Loss_etm 0 nY2 nY3\n",
    "    attr mYetm mass $Mtm\n",
    "    m1 mXetm $Tetm $Loss_etm 90 nX2 nX3 # tuning = 90° towards nX2\n",
    "    attr mXetm mass $Mtm \n",
    "    # --------------    \n",
    "    const lsrc {lsrc}\n",
    "    s sBStoSRM $lsrc nBSo nSRM\n",
    "    # --------------    \n",
    "    const Tsrm {t_srm}\n",
    "    const Loss_srm {loss_srm}\n",
    "    m1 SRM $Tsrm $Loss_srm 90 nSRM nDark\n",
    "    \"\"\"\n",
    "    kat1.parse(kat1code)\n",
    "    \n",
    "    print('--------------------')\n",
    "    print(f'{label}.\\nITM transmission, Titm: {titm}')\n",
    "    \n",
    "    return kat1"
   ]
  },
  {
   "cell_type": "code",
   "execution_count": null,
   "metadata": {},
   "outputs": [],
   "source": [
    "# Adhikari+2020 Voyager\n",
    "settings = dict(pin=152, lsrc=56, titm=2e-3, t_srm=4.6e-2, t_prm=4.9e-2, loss_srm=0, loss_arm=0)\n",
    "check_tuning(create_kat1(label=\"Adhikari+2020\", **settings))\n",
    "pprint(settings)\n",
    "# 152 W input, 3100 W (3.1 kW) in PRC, 3 MW in arms\n",
    "# ifo = IFO(lambda0=2e-6, L_arm=4e3, L_SRC=56, P_circ=3e6, T_ITM=0.002, T_SRM=0.046, M=200, ws=None, gbR=None, gcR=0)"
   ]
  },
  {
   "cell_type": "code",
   "execution_count": null,
   "metadata": {},
   "outputs": [],
   "source": [
    "# want to achieve 5.3 kW on the BS\n",
    "settings = dict(pin=40.35, lsrc=53, t_srm=0.325, loss_srm=35e-6, loss_arm=0)\n",
    "check_tuning(create_kat1(label=\"Adya+2020\", **settings))\n",
    "pprint(settings)"
   ]
  },
  {
   "cell_type": "code",
   "execution_count": null,
   "metadata": {},
   "outputs": [],
   "source": [
    "# isn't lsrc in nIS model, since extra length between bs and itm needs adding in.\n",
    "lsrc0 = 1124 - (1.6 + 1.55)/2\n",
    "check_tuning(create_kat1(label=\"Voyager\", lsrc=56, pin=1305, titm=0.002))\n",
    "check_tuning(create_kat1(label=\"aLIGO\", lsrc=56, pin=601, titm=0.014))\n",
    "check_tuning(create_kat1(label=\"Korobko+2019\", lsrc=56, pin=1154, titm=0.07))\n",
    "check_tuning(create_kat1(label=\"Table 1\", lsrc=56, pin=2815, titm=0.197))"
   ]
  },
  {
   "cell_type": "markdown",
   "metadata": {},
   "source": [
    "Is the carrier wavelength correct?"
   ]
  }
 ],
 "metadata": {
  "kernelspec": {
   "display_name": "Python 3 (ipykernel)",
   "language": "python",
   "name": "python3"
  },
  "language_info": {
   "codemirror_mode": {
    "name": "ipython",
    "version": 3
   },
   "file_extension": ".py",
   "mimetype": "text/x-python",
   "name": "python",
   "nbconvert_exporter": "python",
   "pygments_lexer": "ipython3",
   "version": "3.9.10"
  },
  "toc": {
   "base_numbering": 1,
   "nav_menu": {},
   "number_sections": true,
   "sideBar": true,
   "skip_h1_title": false,
   "title_cell": "Table of Contents",
   "title_sidebar": "Contents",
   "toc_cell": false,
   "toc_position": {},
   "toc_section_display": true,
   "toc_window_display": false
  }
 },
 "nbformat": 4,
 "nbformat_minor": 2
}
