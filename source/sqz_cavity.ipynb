{
 "cells": [
  {
   "cell_type": "code",
   "execution_count": null,
   "metadata": {},
   "outputs": [],
   "source": [
    "import numpy as np\n",
    "import matplotlib.pyplot as plt  \n",
    "%matplotlib inline\n",
    "# from IPython.display import display, HTML\n",
    "\n",
    "from pykat import finesse\n",
    "from pykat.commands import *\n",
    "pykat.init_pykat_plotting(dpi=90)\n",
    "\n",
    "from pprint import pprint as pprint"
   ]
  },
  {
   "cell_type": "code",
   "execution_count": null,
   "metadata": {},
   "outputs": [],
   "source": [
    "SMALL_SIZE = 18\n",
    "MEDIUM_SIZE = 20\n",
    "BIGGER_SIZE = 22\n",
    "\n",
    "plt.rc('font', size=SMALL_SIZE)          # controls default text sizes\n",
    "plt.rc('axes', titlesize=MEDIUM_SIZE)     # fontsize of the axes title\n",
    "plt.rc('axes', labelsize=MEDIUM_SIZE)    # fontsize of the x and y labels\n",
    "plt.rc('xtick', labelsize=SMALL_SIZE)    # fontsize of the tick labels\n",
    "plt.rc('ytick', labelsize=SMALL_SIZE)    # fontsize of the tick labels\n",
    "plt.rc('legend', fontsize=SMALL_SIZE)    # legend fontsize\n",
    "plt.rc('figure', titlesize=BIGGER_SIZE)  # fontsize of the figure title"
   ]
  },
  {
   "cell_type": "code",
   "execution_count": null,
   "metadata": {},
   "outputs": [],
   "source": [
    "# !!! these functions use the WRONG formula for dB, should be 20*log10(-)\n",
    "\n",
    "def r_to_gain_in_dB(r):\n",
    "    return 10*np.log10(np.exp(r))\n",
    "\n",
    "def gain_in_dB_to_r(gain):\n",
    "    return np.log(10**(gain/10))"
   ]
  },
  {
   "cell_type": "code",
   "execution_count": null,
   "metadata": {},
   "outputs": [],
   "source": []
  },
  {
   "cell_type": "code",
   "execution_count": null,
   "metadata": {},
   "outputs": [],
   "source": [
    "# base model that holds the components, run detection models on top of this\n",
    "basekat = finesse.kat()\n",
    "basekat.verbose = False\n",
    "\n",
    "basecode = \"\"\"\n",
    "# no spaces in model, except inside cavity\n",
    "\n",
    "l laser 1 0 0 nbs1 # power = 1W\n",
    "bs BS 0.5 0.5 0 45 nbs1 nbs2 nbs3 nbs4 # phi = 0\n",
    "\n",
    "s sdbs1 0 nbs4 ndbs1 # zero length space\n",
    "dbs isol ndbs1 ndbs2 ndbs3 ndbs4  # dbs doesn't req R T phi alpha\n",
    "s sdbs2 0 ndbs2 nc0 # zero length space\n",
    "\n",
    "m m1 0.9 0.1 0 nc0 nc1 # R = 0.9, T = 0.1, phi = 0\n",
    "s sc1 0.5 nc1 nc2 # total cavity L = 1m\n",
    "nle nle1 0.05 0 nc2 nc3 # r = 0.05, sqz angle = 0\n",
    "s sc2 0.5 nc3 nc4 # total cavity L = 1m\n",
    "m m2 1 0 0 nc4 nc5 # R = 1, T = 0, phi = 0\n",
    "\n",
    "# homodyne detector and quantum noise\n",
    "qhd qn 180 nbs2 nbs3\n",
    "fsig noise 1 # noise at 1 Hz\n",
    "\n",
    "# by default noise enters through every open port, lossy optic, or squeezer\n",
    "# -- Quantum noise inputs --\n",
    "#   |- %10-.10s - laser Node LASER NOISE\n",
    "#   |- %10-.10s - m2 Node OPEN PORT\n",
    "#   |- %10-.10s - BS Node OPEN PORT\n",
    "#   |- %10-.10s - BS Node OPEN PORT\n",
    "#   |- %10-.10s - isol Node OPEN PORT\n",
    "#   |- %10-.10s - isol Node OPEN PORT\n",
    "# can instead specify exactly where through \"vacuum\" command\n",
    "# vacuum isol laser\n",
    "#printnoises\n",
    "\n",
    "\"\"\"\n",
    "\n",
    "basekat.parse(basecode)"
   ]
  },
  {
   "cell_type": "code",
   "execution_count": null,
   "metadata": {},
   "outputs": [],
   "source": [
    "pprint((basekat.components, basekat.detectors, basekat.commands))"
   ]
  },
  {
   "cell_type": "code",
   "execution_count": null,
   "metadata": {},
   "outputs": [],
   "source": []
  },
  {
   "cell_type": "code",
   "execution_count": null,
   "metadata": {},
   "outputs": [],
   "source": [
    "kat1 = deepcopy(basekat)\n",
    "kat1.verbose = False\n",
    "kat1code = \"\"\"\n",
    "xaxis nle1 r lin -1 1 10000 # to spot threshold\n",
    "#yaxis abs:deg\n",
    "\"\"\"\n",
    "\n",
    "kat1.parse(kat1code)\n",
    "\n",
    "# pprint((kat1.components, kat1.detectors, kat1.commands))\n",
    "out1 = kat1.run()\n",
    "print(out1.stdout)"
   ]
  },
  {
   "cell_type": "code",
   "execution_count": null,
   "metadata": {},
   "outputs": [],
   "source": [
    "out1.plot(detectors=['qn'], title=\"homodyne intensity vs squeezer parameter\")\n",
    "# detectors=['qn']\n",
    "out1.plot(filename='pykat_qhd_vs_r.pdf',\n",
    "          title=\"homodyne intensity vs squeezer parameter\",\n",
    "          ylim=(0, 0.5*1e-8))"
   ]
  },
  {
   "cell_type": "code",
   "execution_count": null,
   "metadata": {},
   "outputs": [],
   "source": [
    "# checking limits against HomI(0)\n",
    "homI_zero = out1.y[np.searchsorted(out1.x, 0)][0]\n",
    "print(out1.y[0], homI_zero, out1.y[-1])"
   ]
  },
  {
   "cell_type": "code",
   "execution_count": null,
   "metadata": {},
   "outputs": [],
   "source": [
    "fig, ax = plt.subplots(figsize=(8,6))\n",
    "ax.plot(out1.x, 20*np.log10(out1.y/homI_zero))\n",
    "ax.set_ylim(0, 5)\n",
    "ax.set(title=\"relative homodyne intensity vs squeezer parameter\",\n",
    "       xlabel=\"squeezer parameter, r\",\n",
    "       ylabel=\"abs of relative noise\")\n",
    "plt.show()"
   ]
  },
  {
   "cell_type": "code",
   "execution_count": null,
   "metadata": {},
   "outputs": [],
   "source": [
    "fig, ax = plt.subplots(figsize=(8,6))\n",
    "ax.plot(out1.x, out1.y/homI_zero)\n",
    "ax.set_ylim(0, 5)\n",
    "ax.set(title=\"relative homodyne intensity vs squeezer parameter\",\n",
    "       xlabel=\"squeezer parameter, r / dB\",\n",
    "       ylabel=\"abs of relative noise\")\n",
    "fig.savefig(\"pykat_relative_qhd_vs_r.pdf\")\n",
    "plt.show()"
   ]
  },
  {
   "cell_type": "code",
   "execution_count": null,
   "metadata": {},
   "outputs": [],
   "source": [
    "# finding threshold\n",
    "print(out1.x[out1.y.argmin()], out1.x[out1.y.argmax()])\n",
    "# rThresh\n",
    "rT = 0.1144"
   ]
  },
  {
   "cell_type": "code",
   "execution_count": null,
   "metadata": {},
   "outputs": [],
   "source": []
  },
  {
   "cell_type": "code",
   "execution_count": null,
   "metadata": {},
   "outputs": [],
   "source": [
    "# doing it all with sq\n",
    "\n",
    "kat2 = finesse.kat()\n",
    "kat2.verbose = False\n",
    "\n",
    "kat2code = \"\"\"\n",
    "l laser 1 0 0 nbs1 # power = 1W\n",
    "bs BS 0.5 0.5 0 45 nbs1 nbs2 nbs3 nbs4 # phi = 0\n",
    "\n",
    "s sdbs1 0 nbs4 ndbs1 # zero length space\n",
    "dbs isol ndbs1 ndbs2 ndbs3 ndbs4  # dbs doesn't req R T phi alpha\n",
    "s sdbs2 0 ndbs2 nc0 # zero length space\n",
    "\n",
    "sq sqz1 0 0.1 90 nc0\n",
    "\n",
    "# homodyne detector and quantum noise\n",
    "qhd qn 180 nbs2 nbs3\n",
    "fsig noise 1 # noise at 1 Hz\n",
    "\n",
    "xaxis sqz1 r lin 0 1 10000 # to spot threshold\n",
    "#yaxis abs:deg\n",
    "\"\"\"\n",
    "kat2.parse(kat2code)\n",
    "\n",
    "out2 = kat2.run()\n",
    "\n",
    "out2.plot(filename='sqz_cavity_Finesse_qhd_vs_r_for_sq.pdf',\n",
    "          title=\"homodyne intensity vs squeezer parameter\",\n",
    "          ylim=(0, 0.5*1e-8))"
   ]
  },
  {
   "cell_type": "code",
   "execution_count": null,
   "metadata": {},
   "outputs": [],
   "source": []
  },
  {
   "cell_type": "code",
   "execution_count": null,
   "metadata": {},
   "outputs": [],
   "source": []
  },
  {
   "cell_type": "code",
   "execution_count": null,
   "metadata": {},
   "outputs": [],
   "source": []
  },
  {
   "cell_type": "code",
   "execution_count": null,
   "metadata": {},
   "outputs": [],
   "source": []
  },
  {
   "cell_type": "code",
   "execution_count": null,
   "metadata": {},
   "outputs": [],
   "source": [
    "# kat3 = deepcopy(basekat)\n",
    "\n",
    "# kat3code = \"\"\"\n",
    "# variable sqzr 0\n",
    "# put nle1 r $sqzr\n",
    "\n",
    "# xaxis laser f lin 0 5G 10000\n",
    "# #yaxis abs:deg\n",
    "# \"\"\"\n",
    "\n",
    "# kat3.parse(kat3code)\n",
    "\n",
    "# out3 = kat3.run()\n",
    "\n",
    "# out3.plot()"
   ]
  },
  {
   "cell_type": "code",
   "execution_count": null,
   "metadata": {},
   "outputs": [],
   "source": []
  },
  {
   "cell_type": "code",
   "execution_count": null,
   "metadata": {},
   "outputs": [],
   "source": []
  },
  {
   "cell_type": "code",
   "execution_count": null,
   "metadata": {},
   "outputs": [],
   "source": [
    "# a hack: want to set r param but isn't co-operating, so hard code everything again\n",
    "hackbase = finesse.kat()\n",
    "hackbase.verbose = False\n",
    "\n",
    "hackbasecode = \"\"\"\n",
    "l laser 1 0 0 nbs1 # power = 1W\n",
    "bs BS 0.5 0.5 0 45 nbs1 nbs2 nbs3 nbs4 # phi = 0\n",
    "\n",
    "s sdbs1 0 nbs4 ndbs1 # zero length space\n",
    "dbs isol ndbs1 ndbs2 ndbs3 ndbs4  # dbs doesn't req R T phi alpha\n",
    "s sdbs2 0 ndbs2 nc0 # zero length space\n",
    "\n",
    "m m1 0.9 0.1 0 nc0 nc1 # R = 0.9, T = 0.1, phi = 0\n",
    "s sc1 0.5 nc1 nc2 # total cavity L = 1m\n",
    "s sc2 0.5 nc3 nc4 # total cavity L = 1m\n",
    "m m2 1 0 0 nc4 nc5 # R = 1, T = 0, phi = 0\n",
    "\n",
    "qhd qn 180 nbs2 nbs3\n",
    "fsig noise 1 # noise at 1 Hz\n",
    "\n",
    "xaxis noise f lin 0 1G 10000\n",
    "\"\"\"\n",
    "\n",
    "hackbase.parse(hackbasecode)"
   ]
  },
  {
   "cell_type": "code",
   "execution_count": null,
   "metadata": {},
   "outputs": [],
   "source": [
    "# def hacksqz(sqz_r):\n",
    "#     \"\"\"given a squeezer parameter, return output of Finesse\"\"\"\n",
    "#     hackkat = deepcopy(hackbase)\n",
    "\n",
    "#     # power dB corresponding to r??\n",
    "#     converted_r = 10*np.log10(np.exp(sqz_r))\n",
    "    \n",
    "#     hackcode = \"\"\"\n",
    "#     nle nle1 {0} 0 nc2 nc3 # sqz angle = 0\n",
    "#     \"\"\".format(converted_r)\n",
    "\n",
    "#     hackkat.parse(hackcode)\n",
    "\n",
    "#     return hackkat.run()\n",
    "\n",
    "# def rel_hacksqz(sqz_r):\n",
    "#     \"\"\"given a squeezer parameter, return output and relative y scale\"\"\"\n",
    "#     zeroreference = hacksqz(0).y\n",
    "#     out = hacksqz(sqz_r)\n",
    "#     return out, out.y/zeroreference"
   ]
  },
  {
   "cell_type": "code",
   "execution_count": null,
   "metadata": {},
   "outputs": [],
   "source": [
    "def dB_hacksqz(sqz_r_dB):\n",
    "    \"\"\"given a squeezer parameter in dB, return output of Finesse\"\"\"\n",
    "    hackkat = deepcopy(hackbase)\n",
    "    \n",
    "    hackcode = \"\"\"\n",
    "    nle nle1 {0} 0 nc2 nc3 # sqz angle = 0\n",
    "    \"\"\".format(sqz_r_dB)\n",
    "\n",
    "    hackkat.parse(hackcode)\n",
    "\n",
    "    return hackkat.run()\n",
    "\n",
    "def dB_rel_hacksqz(sqz_r):\n",
    "    \"\"\"given a squeezer parameter, return output and relative y scale\"\"\"\n",
    "    zeroreference = dB_hacksqz(0).y\n",
    "    out = dB_hacksqz(sqz_r)\n",
    "    return out, out.y/zeroreference\n"
   ]
  },
  {
   "cell_type": "code",
   "execution_count": null,
   "metadata": {},
   "outputs": [],
   "source": [
    "def negative_test_dB_hacksqz(sqz_r_dB):\n",
    "    \"\"\"given a squeezer parameter in dB, return output of Finesse\"\"\"\n",
    "    hackkat = deepcopy(hackbase)\n",
    "    \n",
    "    hackcode = \"\"\"\n",
    "    nle nle1 {0} 90 nc2 nc3 # sqz angle = 90\n",
    "    \"\"\".format(sqz_r_dB)\n",
    "\n",
    "    hackkat.parse(hackcode)\n",
    "\n",
    "    return hackkat.run()\n",
    "\n",
    "def negative_test_dB_rel_hacksqz(sqz_r):\n",
    "    \"\"\"given a squeezer parameter, return output and relative y scale\"\"\"\n",
    "    zeroreference = negative_test_dB_hacksqz(0).y\n",
    "    out = negative_test_dB_hacksqz(sqz_r)\n",
    "    return out, out.y/zeroreference"
   ]
  },
  {
   "cell_type": "code",
   "execution_count": null,
   "metadata": {},
   "outputs": [],
   "source": []
  },
  {
   "cell_type": "code",
   "execution_count": null,
   "metadata": {},
   "outputs": [],
   "source": [
    "r23scaling = 20\n",
    "r1, r2, r3, r4 = -rT, -rT/r23scaling, rT/r23scaling, rT\n",
    "k1, k2, k3, k4 = dB_rel_hacksqz(r1), dB_rel_hacksqz(r2), dB_rel_hacksqz(r3), dB_rel_hacksqz(r4)"
   ]
  },
  {
   "cell_type": "code",
   "execution_count": null,
   "metadata": {},
   "outputs": [],
   "source": [
    "nk1 = negative_test_dB_rel_hacksqz(rT)\n",
    "nk2 = negative_test_dB_rel_hacksqz(rT/r23scaling)"
   ]
  },
  {
   "cell_type": "code",
   "execution_count": null,
   "metadata": {},
   "outputs": [],
   "source": [
    "xax = k1[0].x\n",
    "\n",
    "fig, ax = plt.subplots(figsize=(8,6))\n",
    "ax.plot(xax, k4[1], label=\"rT\")\n",
    "ax.plot(xax, k1[1], label=\"-rT\")\n",
    "# ax.legend(*map(reversed, ax.get_legend_handles_labels()))\n",
    "ax.legend(title=\"squeezer parameter, r / dB\", loc=\"upper left\")\n",
    "ax.set(title=\"relative homodyne intensity vs frequency offset\",\n",
    "       xlabel=\"frequency offset, $\\Omega$ / Hz\", ylabel=\"abs of relative homodyne intensity\",\n",
    "       ylim=(0, 2))\n",
    "plt.show()\n",
    "\n",
    "# values may not appear to diverge, however this comes down to choice of datapoints"
   ]
  },
  {
   "cell_type": "code",
   "execution_count": null,
   "metadata": {},
   "outputs": [],
   "source": []
  },
  {
   "cell_type": "code",
   "execution_count": null,
   "metadata": {},
   "outputs": [],
   "source": [
    "ang_freq_ax = 2*np.pi*k1[0].x\n",
    "\n",
    "fig, ax = plt.subplots(figsize=(10,8))\n",
    "ax.plot(ang_freq_ax, k4[1], label=\"r = rT\")\n",
    "ax.plot(ang_freq_ax, k3[1], label=\"r = rT/{}\".format(r23scaling))\n",
    "ax.plot(ang_freq_ax, np.ones(ang_freq_ax.shape), label=\"r = 0\", color=\"lightgreen\")\n",
    "ax.plot(ang_freq_ax, k2[1], label=\"r = -rT/{}\".format(r23scaling))\n",
    "ax.plot(ang_freq_ax, nk2[1], label=\"r = rT/{}, $\\phi$ = $\\pi/2$\".format(r23scaling),\n",
    "        linestyle=\"--\", color=\"orange\")\n",
    "ax.plot(ang_freq_ax, k1[1], label=\"r = -rT\", color=\"darkgreen\")\n",
    "ax.plot(ang_freq_ax, nk1[1], label=\"r = rT, $\\phi$ = $\\pi/2$\", linestyle=\"--\", color=\"hotpink\")\n",
    "# ax.legend(*map(reversed, ax.get_legend_handles_labels()))\n",
    "ax.legend(loc=\"upper left\")\n",
    "ax.set(xlabel=\"angular frequency offset, $\\Omega$ / Hz\", ylabel=\"abs of relative qhd\",\n",
    "       xlim=(0, 5e9), ylim=(0.987, 1.013))\n",
    "fig.savefig(\"pykat_relative_qhd_vs_freq.pdf\")\n",
    "plt.show()"
   ]
  },
  {
   "cell_type": "code",
   "execution_count": null,
   "metadata": {},
   "outputs": [],
   "source": [
    "# comparing threshold squeezer parameters in dB\n",
    "print(10*np.log10(np.exp(0.026)),rT)"
   ]
  },
  {
   "cell_type": "code",
   "execution_count": null,
   "metadata": {},
   "outputs": [],
   "source": [
    "# comparing FSR's\n",
    "print(2*np.pi*299792458/2*1e-9, ang_freq_ax[1000:][np.argmax(k4[1][1000:])]*1e-9)"
   ]
  },
  {
   "cell_type": "code",
   "execution_count": null,
   "metadata": {},
   "outputs": [],
   "source": []
  },
  {
   "cell_type": "code",
   "execution_count": null,
   "metadata": {},
   "outputs": [],
   "source": [
    "# adapted from Vaishali's test code to check nle installed\n",
    "testcode = \"\"\"\n",
    "l l1 1 0 0 n1\n",
    "bs bs1 0.5 0.5 0 0 n1 n2 n3 n4\n",
    "\n",
    "s s0 1 ni na\n",
    "nle nle1 {} 90 na nb\n",
    "s s1 1 nb n4\n",
    "\n",
    "qhd qn 180 n2 n3\n",
    "fsig noise 1\n",
    "\n",
    "xaxis noise f lin 1 10G 10000\n",
    "\"\"\"\n",
    "\n",
    "testkat_null = finesse.kat()\n",
    "testkat_null.verbose = False\n",
    "testkat_null.parse(testcode.format(0))\n",
    "out_null = testkat_null.run()\n",
    "\n",
    "null_reference_value = out_null.y[0,0]"
   ]
  },
  {
   "cell_type": "code",
   "execution_count": null,
   "metadata": {},
   "outputs": [],
   "source": [
    "def testkat_gain(gain):\n",
    "    \"\"\"input: gain in dB as parameter to finesse's nle\n",
    "    output: actual gain\n",
    "    \"\"\"\n",
    "\n",
    "    testkat = finesse.kat()\n",
    "    testkat.verbose = False\n",
    "    testkat.parse(testcode.format(gain))\n",
    "    out = testkat.run()\n",
    "\n",
    "    return 20*np.log10(out.y[0,0]/null_reference_value)"
   ]
  },
  {
   "cell_type": "code",
   "execution_count": null,
   "metadata": {},
   "outputs": [],
   "source": [
    "gain_axis = np.linspace(0, 10, 20)\n",
    "qhd_axis = [testkat_gain(x) for x in gain_axis]"
   ]
  },
  {
   "cell_type": "code",
   "execution_count": null,
   "metadata": {},
   "outputs": [],
   "source": [
    "# recall that r = np.log(10**(gaindB/10))\n",
    "fig, ax = plt.subplots(figsize=(4,3))\n",
    "ax.plot(gain_axis, qhd_axis, '.')\n",
    "ax.set(xlabel='nle input value / \"dB\"',\n",
    "       title=\"testing Finesse squeezers: nle\")\n",
    "ax.set_ylabel(\"$20\\, \\log_{10}(\\mathrm{relative\\; qhd})$ / dB\", fontsize=14)\n",
    "\n",
    "plt.show()\n",
    "fig.savefig(\"testing_Finesse_squeezers-nle.pdf\")"
   ]
  },
  {
   "cell_type": "code",
   "execution_count": null,
   "metadata": {},
   "outputs": [],
   "source": []
  },
  {
   "cell_type": "code",
   "execution_count": null,
   "metadata": {},
   "outputs": [],
   "source": [
    "kat = pykat.finesse.kat()\n",
    "kat.verbose = 0\n",
    "\n",
    "# adapted from Vaishali's test code to check nle installed\n",
    "testcode = \"\"\"\n",
    "l l1 1 0 0 n1\n",
    "bs bs1 0.5 0.5 0 0 n1 n2 n3 n4\n",
    "\n",
    "s s0 1 ni na\n",
    "sq sqz1 0 10 90 nb\n",
    "s s1 1 nb n4\n",
    "\n",
    "qhd qn 180 n2 n3\n",
    "fsig noise 1\n",
    "\n",
    "xaxis sqz1 r lin 0 10 100\n",
    "\"\"\"\n",
    "\n",
    "kat.parse(testcode)\n",
    "out = kat.run()\n",
    "# out.plot()"
   ]
  },
  {
   "cell_type": "code",
   "execution_count": null,
   "metadata": {},
   "outputs": [],
   "source": [
    "q = out['qn']\n",
    "fig, ax = plt.subplots(figsize=(4,3))\n",
    "ax.plot(out.x, 20*np.log10(q/q[0]), '--')\n",
    "ax.set(xlabel=\"sq input value / dB\",\n",
    "       title=\"testing Finesse squeezers: sq\")\n",
    "ax.set_ylabel(\"$20\\, \\log_{10}(\\mathrm{relative\\; qhd})$ / dB\", fontsize=14)\n",
    "plt.show()\n",
    "fig.savefig(\"testing_Finesse_squeezers-sq.pdf\")"
   ]
  },
  {
   "cell_type": "code",
   "execution_count": null,
   "metadata": {},
   "outputs": [],
   "source": []
  },
  {
   "cell_type": "code",
   "execution_count": null,
   "metadata": {},
   "outputs": [],
   "source": []
  },
  {
   "cell_type": "code",
   "execution_count": null,
   "metadata": {},
   "outputs": [],
   "source": []
  },
  {
   "cell_type": "code",
   "execution_count": null,
   "metadata": {},
   "outputs": [],
   "source": []
  },
  {
   "cell_type": "code",
   "execution_count": null,
   "metadata": {},
   "outputs": [],
   "source": []
  }
 ],
 "metadata": {
  "kernelspec": {
   "display_name": "Python 3",
   "language": "python",
   "name": "python3"
  },
  "language_info": {
   "codemirror_mode": {
    "name": "ipython",
    "version": 3
   },
   "file_extension": ".py",
   "mimetype": "text/x-python",
   "name": "python",
   "nbconvert_exporter": "python",
   "pygments_lexer": "ipython3",
   "version": "3.6.9"
  }
 },
 "nbformat": 4,
 "nbformat_minor": 2
}
