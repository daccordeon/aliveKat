{
 "cells": [
  {
   "cell_type": "code",
   "execution_count": null,
   "metadata": {},
   "outputs": [],
   "source": [
    "import numpy as np\n",
    "import matplotlib.pyplot as plt  \n",
    "%matplotlib inline\n",
    "# from IPython.display import display, HTML\n",
    "\n",
    "from pykat import finesse\n",
    "from pykat.commands import *\n",
    "pykat.init_pykat_plotting(dpi=90)\n",
    "\n",
    "from pprint import pprint as pprint"
   ]
  },
  {
   "cell_type": "code",
   "execution_count": null,
   "metadata": {},
   "outputs": [],
   "source": [
    "# base of configurations, without Southern section\n",
    "basekat = finesse.kat()\n",
    "basecode = \"\"\"\n",
    "const Pin 125 # laser power\n",
    "# lengths in metres\n",
    "const lx 1.6\n",
    "const ly 1.55\n",
    "const Lx 4k\n",
    "const Ly 4k\n",
    "const lprc 53\n",
    "# mirrors\n",
    "const Tprm 0.3\n",
    "const Rprm 0.7\n",
    "const Titm 0.014\n",
    "const Ritm 0.986\n",
    "const Tetm 6E-6\n",
    "const Retm 0.999994\n",
    "\n",
    "# laser\n",
    "l laser $Pin 0 nLaser\n",
    "\n",
    "# power recycling\n",
    "m PRM $Rprm $Tprm 0 nLaser nPRM\n",
    "s sBStoPRM $lprc nPRM nBSi\n",
    "\n",
    "# central beam splitter\n",
    "bs BS 0.5 0.5 0 0 nBSi nBSr nBSt nBSo\n",
    "s sBStoYarm $ly nBSr nY0\n",
    "s sBStoXarm $lx nBSt nX0\n",
    "\n",
    "# Y arm (perpendicular)\n",
    "m mY1 $Ritm $Titm 0 nY0 nY1\n",
    "s sY $Ly nY1 nY2\n",
    "m mY2 $Retm $Tetm 0 nY2 nY3\n",
    "\n",
    "# X arm (parallel)\n",
    "m mX1 $Ritm $Titm 0 nX0 nX1\n",
    "s sX $Lx nX1 nX2\n",
    "m mX2 $Retm $Tetm 0 nX2 nX3\n",
    "\"\"\"\n",
    "basekat.parse(basecode)\n",
    "\n",
    "# pprint((basekat.components, basekat.detectors, basekat.commands))"
   ]
  },
  {
   "cell_type": "code",
   "execution_count": null,
   "metadata": {},
   "outputs": [],
   "source": [
    "def create_kat1(lsrc):\n",
    "    \"\"\" configuration 1: adding in SRM section\n",
    "    lsrc in m\n",
    "    \"\"\"\n",
    "    kat1 = deepcopy(basekat)\n",
    "    kat1code = \"\"\"\n",
    "    # signal recycling\n",
    "    const lsrc {0}\n",
    "    const Tsrm 0.2\n",
    "    const Rsrm 0.8\n",
    "    \n",
    "    s sBStoSRM $lsrc nBSo nSR\n",
    "    m SRM $Rsrm $Tsrm 0 nSR nDark\n",
    "    \"\"\".format(lsrc)\n",
    "    kat1.parse(kat1code)\n",
    "    \n",
    "    return kat1"
   ]
  },
  {
   "cell_type": "code",
   "execution_count": null,
   "metadata": {},
   "outputs": [],
   "source": [
    "def create_kat2(lsrc, gain=10):\n",
    "    \"\"\"configuration 2: adding in SRM section with nle halfway\n",
    "    lsrc in m, gain in field dB\n",
    "    \"\"\"\n",
    "    kat2 = deepcopy(basekat)\n",
    "    kat2code = \"\"\"\n",
    "    # signal recycling\n",
    "    const lsrc {0}\n",
    "    const halflsrc {1}\n",
    "    const Tsrm 0.2\n",
    "    const Rsrm 0.8\n",
    "    \n",
    "    s sBStonle $halflsrc nBSo nnle11\n",
    "    nle nle1 {2} 0 nnle11 nnle12 # gain defaults to 10 dB, angle = 0\n",
    "    s snletoSRM $halflsrc nnle12 nSR    \n",
    "    m SRM $Rsrm $Tsrm 0 nSR nDark\n",
    "    \"\"\".format(lsrc, lsrc/2, gain)\n",
    "    kat2.parse(kat2code)\n",
    "    \n",
    "    return kat2"
   ]
  },
  {
   "cell_type": "code",
   "execution_count": null,
   "metadata": {},
   "outputs": [],
   "source": []
  },
  {
   "cell_type": "code",
   "execution_count": null,
   "metadata": {},
   "outputs": [],
   "source": [
    "def noise_transfer(kat):\n",
    "    \"\"\"calculates QM noise transfer function for created kat1 or kat2\"\"\"\n",
    "    noisekat = deepcopy(kat)\n",
    "    noisekat.verbose = False\n",
    "    noisecode = \"\"\"\n",
    "    pd darkport nDark\n",
    "    \n",
    "    fsig noise 100 # enters through every open port and lossy optic\n",
    "    xaxis noise f lin 1 10G 1000\n",
    "    \"\"\"\n",
    "    noisekat.parse(noisecode)\n",
    "    out = noisekat.run()\n",
    "    \n",
    "    return out"
   ]
  },
  {
   "cell_type": "code",
   "execution_count": null,
   "metadata": {},
   "outputs": [],
   "source": [
    "def gw_transfer(kat):\n",
    "    \"\"\"calculates GW signal transfer function for created kat1 or kat2\n",
    "    currently shakes mX2 at varying frequencies\n",
    "    \n",
    "    # how to do differential tuning with fsig?\n",
    "    \n",
    "    \"\"\"\n",
    "    signalkat = deepcopy(kat)\n",
    "    signalkat.verbose = False\n",
    "    signalcode = \"\"\"\n",
    "    pd1 darkport 10k 0 nDark\n",
    "            \n",
    "    fsig sig1 mX2 10k 0\n",
    "    xaxis sig1 f lin 1 10G 1000\n",
    "    \n",
    "    put darkport f1 $x1\n",
    "    \"\"\"\n",
    "    signalkat.parse(signalcode)\n",
    "    out = signalkat.run()\n",
    "    \n",
    "    return out    "
   ]
  },
  {
   "cell_type": "code",
   "execution_count": null,
   "metadata": {},
   "outputs": [],
   "source": []
  },
  {
   "cell_type": "code",
   "execution_count": null,
   "metadata": {
    "scrolled": true
   },
   "outputs": [],
   "source": []
  },
  {
   "cell_type": "code",
   "execution_count": null,
   "metadata": {},
   "outputs": [],
   "source": []
  },
  {
   "cell_type": "code",
   "execution_count": null,
   "metadata": {},
   "outputs": [],
   "source": [
    "# perhaps should define a plotter class?\n",
    "\n",
    "kat1c1 = create_kat1(53)\n",
    "kat1c2 = create_kat1(2000)\n",
    "kat2c1 = create_kat2(53)\n",
    "kat2c2 = create_kat2(2000)\n",
    "\n",
    "title1c1 = \"configuration 1, case 1\"\n",
    "title1c2 = \"configuration 1, case 2\"\n",
    "title2c1 = \"configuration 2, case 1\"\n",
    "title2c2 = \"configuration 2, case 2\""
   ]
  },
  {
   "cell_type": "code",
   "execution_count": null,
   "metadata": {
    "scrolled": false
   },
   "outputs": [],
   "source": [
    "noise_transfer(kat1c1).plot(title=title1c1)\n",
    "noise_transfer(kat1c2).plot(title=title1c2)\n",
    "noise_transfer(kat2c1).plot(title=title2c1)\n",
    "noise_transfer(kat2c2).plot(title=title2c2)"
   ]
  },
  {
   "cell_type": "code",
   "execution_count": null,
   "metadata": {
    "scrolled": false
   },
   "outputs": [],
   "source": [
    "gw_transfer(kat1c1).plot(title=title1c1)\n",
    "gw_transfer(kat1c2).plot(title=title1c2)\n",
    "gw_transfer(kat2c1).plot(title=title2c1)\n",
    "gw_transfer(kat2c2).plot(title=title2c2)"
   ]
  },
  {
   "cell_type": "code",
   "execution_count": null,
   "metadata": {},
   "outputs": [],
   "source": []
  },
  {
   "cell_type": "code",
   "execution_count": null,
   "metadata": {},
   "outputs": [],
   "source": []
  },
  {
   "cell_type": "code",
   "execution_count": null,
   "metadata": {},
   "outputs": [],
   "source": []
  },
  {
   "cell_type": "code",
   "execution_count": null,
   "metadata": {},
   "outputs": [],
   "source": []
  }
 ],
 "metadata": {
  "kernelspec": {
   "display_name": "Python 3",
   "language": "python",
   "name": "python3"
  },
  "language_info": {
   "codemirror_mode": {
    "name": "ipython",
    "version": 3
   },
   "file_extension": ".py",
   "mimetype": "text/x-python",
   "name": "python",
   "nbconvert_exporter": "python",
   "pygments_lexer": "ipython3",
   "version": "3.6.9"
  }
 },
 "nbformat": 4,
 "nbformat_minor": 2
}
