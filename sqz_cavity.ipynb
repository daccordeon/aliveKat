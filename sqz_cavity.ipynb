{
 "cells": [
  {
   "cell_type": "code",
   "execution_count": 1,
   "metadata": {},
   "outputs": [
    {
     "name": "stdout",
     "output_type": "stream",
     "text": [
      "                                              ..-\n",
      "    PyKat 1.2.2           _                  '(\n",
      "                          \\`.|\\.__...-\"\"\"\"-_.\" )\n",
      "       ..+-----.._        /  ' `            .-'\n",
      "   . '            `:      7/* _/._\\    \\   (\n",
      "  (        '::;;+;;:      `-\"' =\" /,`\"\" `) /\n",
      "  L.        \\`:::a:f            c_/     n_'\n",
      "  ..`--...___`.  .    ,\n",
      "   `^-....____:   +.      www.gwoptics.org/pykat\n",
      "\n"
     ]
    }
   ],
   "source": [
    "import numpy as np\n",
    "import matplotlib.pyplot as plt  \n",
    "%matplotlib inline\n",
    "# from IPython.display import display, HTML\n",
    "\n",
    "from pykat import finesse\n",
    "from pykat.commands import *\n",
    "pykat.init_pykat_plotting(dpi=90)\n",
    "\n",
    "from pprint import pprint as ppprint"
   ]
  },
  {
   "cell_type": "code",
   "execution_count": null,
   "metadata": {},
   "outputs": [],
   "source": []
  },
  {
   "cell_type": "code",
   "execution_count": 2,
   "metadata": {},
   "outputs": [
    {
     "name": "stdout",
     "output_type": "stream",
     "text": [
      "Parsing `nle nle1 -10 0 nc2 nc3` into pykat object not implemented yet, added as extra line.\n"
     ]
    }
   ],
   "source": [
    "# base model that holds the components, run detection models on top of this\n",
    "basekat = finesse.kat()\n",
    "#basekat.verbose = False\n",
    "\n",
    "basecode = \"\"\"\n",
    "# no spaces in model, except inside cavity\n",
    "\n",
    "l laser 1 0 0 nbs1 # power = 1W\n",
    "bs BS 0.5 0.5 0 45 nbs1 nbs2 nbs3 nbs4 # phi = 0\n",
    "\n",
    "s sdbs1 0 nbs4 ndbs1 # zero length space\n",
    "dbs isol ndbs1 ndbs2 ndbs3 ndbs4  # dbs doesn't req R T phi alpha\n",
    "s sdbs2 0 ndbs2 nc0 # zero length space\n",
    "\n",
    "m m1 0.5 0.5 0 nc0 nc1 # R = 0.5 = T, phi = 0\n",
    "s sc1 1 nc1 nc2 # L = 1m\n",
    "nle nle1 -10 0 nc2 nc3 # r = -10, sqz angle = 0\n",
    "s sc2 1 nc3 nc4 # L = 1m\n",
    "m m2 1 0 0 nc4 nc5 # R = 1, T = 0, phi = 0\n",
    "\n",
    "noxaxis\n",
    "\"\"\"\n",
    "\n",
    "basekat.parse(basecode)"
   ]
  },
  {
   "cell_type": "code",
   "execution_count": 3,
   "metadata": {},
   "outputs": [
    {
     "name": "stdout",
     "output_type": "stream",
     "text": [
      "({'BS': <pykat.components.beamSplitter_2 (BS) at 0x7f56c0605908>,\n",
      "  'isol': <pykat.components.dbs_4 (isol) at 0x7f568c2a1160>,\n",
      "  'laser': <pykat.components.laser_1 (laser) at 0x7f56c0605898>,\n",
      "  'm1': <pykat.components.mirror_6 (m1) at 0x7f568c2a1940>,\n",
      "  'm2': <pykat.components.mirror_9 (m2) at 0x7f568c2a7828>,\n",
      "  'sc1': <pykat.components.space_7 (sc1) at 0x7f568c2a70f0>,\n",
      "  'sc2': <pykat.components.space_8 (sc2) at 0x7f568c2a7400>,\n",
      "  'sdbs1': <pykat.components.space_3 (sdbs1) at 0x7f568c291278>,\n",
      "  'sdbs2': <pykat.components.space_5 (sdbs2) at 0x7f568c291fd0>},\n",
      " {},\n",
      " {})\n"
     ]
    }
   ],
   "source": [
    "ppprint((basekat.components, basekat.detectors, basekat.commands))"
   ]
  },
  {
   "cell_type": "code",
   "execution_count": null,
   "metadata": {},
   "outputs": [],
   "source": []
  },
  {
   "cell_type": "code",
   "execution_count": 4,
   "metadata": {},
   "outputs": [
    {
     "name": "stdout",
     "output_type": "stream",
     "text": [
      "Parsing `printnoises` into pykat object not implemented yet, added as extra line.\n"
     ]
    }
   ],
   "source": [
    "kat1 = deepcopy(basekat)\n",
    "\n",
    "kat1code = \"\"\"\n",
    "\n",
    "qhd qn 180 nbs2 nbs3\n",
    "fsig noise 1 # noise at 1 Hz\n",
    "\n",
    "# by default noise enters through every open port, lossy optic, or squeezer\n",
    "# -- Quantum noise inputs --\n",
    "#   |- %10-.10s - laser Node LASER NOISE\n",
    "#   |- %10-.10s - m2 Node OPEN PORT\n",
    "#   |- %10-.10s - BS Node OPEN PORT\n",
    "#   |- %10-.10s - BS Node OPEN PORT\n",
    "#   |- %10-.10s - isol Node OPEN PORT\n",
    "#   |- %10-.10s - isol Node OPEN PORT\n",
    "# can instead specify exactly where through \"vacuum\" command\n",
    "# e.g. vacuum BS isol\n",
    "printnoises\n",
    "\n",
    "# xaxis nle r lin -10 0 10 1000 # to spot threshold\n",
    "# yaxis abs:deg\n",
    "\"\"\"\n",
    "\n",
    "kat1.parse(kat1code)"
   ]
  },
  {
   "cell_type": "code",
   "execution_count": 5,
   "metadata": {},
   "outputs": [
    {
     "name": "stdout",
     "output_type": "stream",
     "text": [
      "({'BS': <pykat.components.beamSplitter_11 (BS) at 0x7f568c2b4358>,\n",
      "  'isol': <pykat.components.dbs_13 (isol) at 0x7f568c2b23c8>,\n",
      "  'laser': <pykat.components.laser_10 (laser) at 0x7f56c06059b0>,\n",
      "  'm1': <pykat.components.mirror_15 (m1) at 0x7f568c2b2898>,\n",
      "  'm2': <pykat.components.mirror_18 (m2) at 0x7f568c2bba90>,\n",
      "  'sc1': <pykat.components.space_16 (sc1) at 0x7f568c2bb4e0>,\n",
      "  'sc2': <pykat.components.space_17 (sc2) at 0x7f568c2bb7b8>,\n",
      "  'sdbs1': <pykat.components.space_12 (sdbs1) at 0x7f568c2b20f0>,\n",
      "  'sdbs2': <pykat.components.space_14 (sdbs2) at 0x7f568c2b25c0>},\n",
      " {'qn': <pykat.detectors.pykat.detectors.qhd_1 object at 0x7f568c2b2390>},\n",
      " {})\n"
     ]
    }
   ],
   "source": [
    "ppprint((kat1.components, kat1.detectors, kat1.commands))"
   ]
  },
  {
   "cell_type": "code",
   "execution_count": 6,
   "metadata": {},
   "outputs": [
    {
     "name": "stdout",
     "output_type": "stream",
     "text": [
      "--------------------------------------------------------------\n",
      "Running kat - Started at 2020-08-20 11:46:35.184872\n",
      "Used Finesse 2.3.1 at /home/james/Code/cbrOzGrav/Finesse/kat\n",
      "\n",
      "Finished in 0.01085 seconds\n",
      "\n",
      "------------------------------------------------------------------------\n",
      "                     FINESSE 2.3.1            (build 2.3.1.11-ga3cc55b2)\n",
      "       o_.-=.        Frequency domain INterferomEter Simulation SoftwarE\n",
      "      (\\'\".\\|        06.07.2020         http://www.gwoptics.org/finesse/\n",
      "      .>' (_--.      \n",
      "   _=/d   ,^\\        Input file /tmp/tmpztn36l2h.kat,\n",
      "  ~~ \\)-'   '        Output file /tmp/tmpztn36l2h.out,\n",
      "     / |             Gnuplot file /tmp/tmpztn36l2h.gnu \n",
      "    '  '                                        Thu Aug 20 11:46:35 2020\n",
      "------------------------------------------------------------------------\n",
      " 'noxaxis' has been set, ignoring all other xaxis commands\n",
      " \n",
      "-- Quantum noise inputs --\n",
      "  |- %10-.10s - laser Node LASER NOISE\n",
      "  |- %10-.10s - m2 Node OPEN PORT\n",
      "  |- %10-.10s - BS Node OPEN PORT\n",
      "  |- %10-.10s - BS Node OPEN PORT\n",
      "  |- %10-.10s - isol Node OPEN PORT\n",
      "  |- %10-.10s - isol Node OPEN PORT\n",
      " \n",
      " computation time:  0.00264178s\n",
      "\n"
     ]
    },
    {
     "name": "stderr",
     "output_type": "stream",
     "text": [
      "\r",
      "  0% | ETA:  --:--:-- | Calculating                                            \r",
      "100% | ETA:  0:00:00 | Calculating                                             "
     ]
    }
   ],
   "source": [
    "out1 = kat1.run()\n",
    "print(out1.stdout)"
   ]
  },
  {
   "cell_type": "code",
   "execution_count": null,
   "metadata": {},
   "outputs": [],
   "source": []
  },
  {
   "cell_type": "code",
   "execution_count": null,
   "metadata": {},
   "outputs": [],
   "source": []
  },
  {
   "cell_type": "code",
   "execution_count": 7,
   "metadata": {},
   "outputs": [
    {
     "name": "stdout",
     "output_type": "stream",
     "text": [
      "Parsing `nle nle1 -10 0 na nb` into pykat object not implemented yet, added as extra line.\n",
      "Parsing `printnoises` into pykat object not implemented yet, added as extra line.\n"
     ]
    }
   ],
   "source": [
    "# Vaishali's test code to check nle installed\n",
    "testkat = finesse.kat()\n",
    "testcode = \"\"\"\n",
    "l l1 1 0 0 n1\n",
    "s s0 1 ni na\n",
    "nle nle1 -10 0 na nb\n",
    "s s1 1 nb n4\n",
    "bs bs1 0.5 0.5 0 0 n1 n2 n3 n4\n",
    "qhd qn 180 n2 n3\n",
    "fsig noise 1\n",
    "noxaxis\n",
    "printnoises\n",
    "\"\"\"\n",
    "testkat.parse(testcode)"
   ]
  },
  {
   "cell_type": "code",
   "execution_count": 8,
   "metadata": {},
   "outputs": [
    {
     "name": "stdout",
     "output_type": "stream",
     "text": [
      "--------------------------------------------------------------\n",
      "Running kat - Started at 2020-08-20 11:46:35.216751\n",
      "Used Finesse 2.3.1 at /home/james/Code/cbrOzGrav/Finesse/kat\n",
      "\n",
      "Finished in 0.0120752 seconds\n",
      "\n",
      "------------------------------------------------------------------------\n",
      "                     FINESSE 2.3.1            (build 2.3.1.11-ga3cc55b2)\n",
      "       o_.-=.        Frequency domain INterferomEter Simulation SoftwarE\n",
      "      (\\'\".\\|        06.07.2020         http://www.gwoptics.org/finesse/\n",
      "      .>' (_--.      \n",
      "   _=/d   ,^\\        Input file /tmp/tmpheakjm0q.kat,\n",
      "  ~~ \\)-'   '        Output file /tmp/tmpheakjm0q.out,\n",
      "     / |             Gnuplot file /tmp/tmpheakjm0q.gnu \n",
      "    '  '                                        Thu Aug 20 11:46:35 2020\n",
      "------------------------------------------------------------------------\n",
      " 'noxaxis' has been set, ignoring all other xaxis commands\n",
      " \n",
      "-- Quantum noise inputs --\n",
      "  |- %10-.10s - l1 Node LASER NOISE\n",
      "  |- %10-.10s - bs1 Node OPEN PORT\n",
      "  |- %10-.10s - bs1 Node OPEN PORT\n",
      " \n",
      " computation time:  0.00230583s\n",
      "\n"
     ]
    },
    {
     "name": "stderr",
     "output_type": "stream",
     "text": [
      "\r",
      "  0% | ETA:  --:--:-- | Calculating                                            \r",
      "100% | ETA:  0:00:00 | Calculating                                             "
     ]
    }
   ],
   "source": [
    "out = testkat.run()\n",
    "print(out.stdout)"
   ]
  },
  {
   "cell_type": "code",
   "execution_count": null,
   "metadata": {},
   "outputs": [],
   "source": []
  }
 ],
 "metadata": {
  "kernelspec": {
   "display_name": "Python 3",
   "language": "python",
   "name": "python3"
  },
  "language_info": {
   "codemirror_mode": {
    "name": "ipython",
    "version": 3
   },
   "file_extension": ".py",
   "mimetype": "text/x-python",
   "name": "python",
   "nbconvert_exporter": "python",
   "pygments_lexer": "ipython3",
   "version": "3.6.9"
  }
 },
 "nbformat": 4,
 "nbformat_minor": 2
}
