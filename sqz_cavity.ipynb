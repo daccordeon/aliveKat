{
 "cells": [
  {
   "cell_type": "code",
   "execution_count": 1,
   "metadata": {},
   "outputs": [
    {
     "name": "stdout",
     "output_type": "stream",
     "text": [
      "                                              ..-\n",
      "    PyKat 1.2.2           _                  '(\n",
      "                          \\`.|\\.__...-\"\"\"\"-_.\" )\n",
      "       ..+-----.._        /  ' `            .-'\n",
      "   . '            `:      7/* _/._\\    \\   (\n",
      "  (        '::;;+;;:      `-\"' =\" /,`\"\" `) /\n",
      "  L.        \\`:::a:f            c_/     n_'\n",
      "  ..`--...___`.  .    ,\n",
      "   `^-....____:   +.      www.gwoptics.org/pykat\n",
      "\n"
     ]
    }
   ],
   "source": [
    "import numpy as np\n",
    "import matplotlib.pyplot as plt  \n",
    "%matplotlib inline\n",
    "# from IPython.display import display, HTML\n",
    "\n",
    "from pykat import finesse\n",
    "from pykat.commands import *\n",
    "pykat.init_pykat_plotting(dpi=90)"
   ]
  },
  {
   "cell_type": "code",
   "execution_count": null,
   "metadata": {},
   "outputs": [],
   "source": []
  },
  {
   "cell_type": "code",
   "execution_count": 6,
   "metadata": {},
   "outputs": [
    {
     "name": "stdout",
     "output_type": "stream",
     "text": [
      "\u001b[91m\n",
      "--------------------------------------------------------------\n",
      "Pykat error parsing line: 'dbs dBS 0 45 nbs4 ndbs2 ndbs3\n",
      "ndbs4':\n",
      "dbs Finesse code format incorrect 'dbs dBS 0 45 nbs4 ndbs2\n",
      "ndbs3 ndbs4'\n",
      "--------------------------------------------------------------\n",
      "\u001b[0m\n"
     ]
    },
    {
     "ename": "SystemExit",
     "evalue": "1",
     "output_type": "error",
     "traceback": [
      "An exception has occurred, use %tb to see the full traceback.\n",
      "\u001b[0;31mSystemExit\u001b[0m\u001b[0;31m:\u001b[0m 1\n"
     ]
    },
    {
     "name": "stderr",
     "output_type": "stream",
     "text": [
      "/usr/lib/python3/dist-packages/IPython/core/interactiveshell.py:2890: UserWarning: To exit: use 'exit', 'quit', or Ctrl-D.\n",
      "  warn(\"To exit: use 'exit', 'quit', or Ctrl-D.\", stacklevel=1)\n"
     ]
    }
   ],
   "source": [
    "# base model that holds the components, run detection models on top of this\n",
    "basekat = finesse.kat()\n",
    "#basekat.verbose = False\n",
    "\n",
    "basecode = \"\"\"\n",
    "# no spaces in model, except inside cavity\n",
    "\n",
    "l laser 1 0 0 nbs1 # power = 1W\n",
    "bs BS 0.5 0.5 0 45 nbs1 nbs2 nbs3 nbs4 # phi = 0\n",
    "qhd qn 180 nbs2 nbs3\n",
    "\n",
    "dbs dBS 0 45 nbs4 ndbs2 ndbs3 ndbs4  # assume dbs doesn't req R T\n",
    "\n",
    "m m1 0.5 0.5 0 ndbs2 nc1 # R = 0.5 = T, phi = 0\n",
    "s sc1 1 nc1 nc2 # L = 1m\n",
    "nle nle1 -10 0 nc2 nc3 # r = -10, sqz angle = 0\n",
    "s sc2 1 nc3 nc4 # L = 1m\n",
    "m m2 1 0 0 nc4 nc5 # R = 1, T = 0, phi = 0\n",
    "\n",
    "\"\"\"\n",
    "\n",
    "basekat.parse(basecode)"
   ]
  },
  {
   "cell_type": "code",
   "execution_count": 3,
   "metadata": {},
   "outputs": [
    {
     "name": "stdout",
     "output_type": "stream",
     "text": [
      "{}\n",
      "{}\n",
      "{}\n"
     ]
    }
   ],
   "source": [
    "print(basekat.components, basekat.detectors, basekat.commands, sep='\\n')"
   ]
  },
  {
   "cell_type": "code",
   "execution_count": null,
   "metadata": {},
   "outputs": [],
   "source": []
  },
  {
   "cell_type": "code",
   "execution_count": null,
   "metadata": {},
   "outputs": [],
   "source": [
    "kat1 = deepcopy(basekat)\n",
    "\n",
    "kat1code = \"\"\"\n",
    "# xaxis nle r lin -10 0 10 1000 # to spot threshold\n",
    "# yaxis abs:deg\n",
    "\"\"\"\n",
    "\n",
    "kat1.parse(kat1code)"
   ]
  },
  {
   "cell_type": "code",
   "execution_count": null,
   "metadata": {},
   "outputs": [],
   "source": []
  },
  {
   "cell_type": "code",
   "execution_count": null,
   "metadata": {},
   "outputs": [],
   "source": []
  }
 ],
 "metadata": {
  "kernelspec": {
   "display_name": "Python 3",
   "language": "python",
   "name": "python3"
  },
  "language_info": {
   "codemirror_mode": {
    "name": "ipython",
    "version": 3
   },
   "file_extension": ".py",
   "mimetype": "text/x-python",
   "name": "python",
   "nbconvert_exporter": "python",
   "pygments_lexer": "ipython3",
   "version": "3.6.9"
  }
 },
 "nbformat": 4,
 "nbformat_minor": 2
}
